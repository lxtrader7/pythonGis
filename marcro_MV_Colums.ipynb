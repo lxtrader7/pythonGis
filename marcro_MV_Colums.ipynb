{
 "cells": [
  {
   "cell_type": "code",
   "execution_count": 1,
   "id": "2ba5596e",
   "metadata": {},
   "outputs": [],
   "source": [
    "\n",
    "import pandas as pd\n",
    "df_mv = pd.read_csv('totalmv13oct.csv', sep = \";\")\n",
    "df_mv2 = df_mv.assign(blanco = \"\")\n",
    "\n",
    "\n",
    "cols_mv = list(df_mv2.columns)\n",
    "df_mv2[cols_mv]\n",
    "\n",
    "\n",
    "\n",
    "newCols = [\"Id Victima\", \"Distrito\", \"blanco\", \"Circuito\", \"Cod. Subcircu\", \"Subcircuito\", \"Zona\",\n",
    "           \"Subzona\", \"blanco\", \"blanco\",\"Area del Hecho\", \"Fecha Infracción\", \"Hora Infracción\", \n",
    "           \"Presun. Motiva. Obser\",\"Presun. Motiva.\", \"Tipo Muert.\", \"blanco\", \"blanco\", \"blanco\", \"blanco\", \n",
    "           \"blanco\", \"blanco\", \"blanco\", \"blanco\", \"blanco\", 'Coord. Y', 'Coord. X', \"blanco\", \"blanco\", \"blanco\", \n",
    "           \"blanco\", \"blanco\", \"blanco\", \"blanco\", \"blanco\", \"Tipo Lugar\", \"Lugar\", \"Arma\", \"blanco\", \n",
    "           \"Apellidos y Nombres Víctima\", \"Sexo\", \"Edad\", \"Estado Civil\", \"Nacionalidad\",]\n",
    "\n",
    "#df_mv2[newCols].to_csv('mv12oct.csv', sep = \";\", index = False)##EJECUTAR\n"
   ]
  },
  {
   "cell_type": "code",
   "execution_count": 4,
   "id": "30dfbfe5",
   "metadata": {
    "scrolled": true
   },
   "outputs": [],
   "source": []
  }
 ],
 "metadata": {
  "kernelspec": {
   "display_name": "Python 3 (ipykernel)",
   "language": "python",
   "name": "python3"
  },
  "language_info": {
   "codemirror_mode": {
    "name": "ipython",
    "version": 3
   },
   "file_extension": ".py",
   "mimetype": "text/x-python",
   "name": "python",
   "nbconvert_exporter": "python",
   "pygments_lexer": "ipython3",
   "version": "3.10.7"
  }
 },
 "nbformat": 4,
 "nbformat_minor": 5
}
